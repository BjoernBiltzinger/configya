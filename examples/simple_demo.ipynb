{
 "cells": [
  {
   "cell_type": "markdown",
   "metadata": {},
   "source": [
    "## What is this?\n",
    "\n",
    "I often make YAML configuration files for codes to input default parameters. I kept repeating myself and wanting more robustness to the structure required in the file... so I decided to make a generic one. \n",
    "\n",
    "## What it does?\n",
    "\n",
    "* Inherit the **YAMLConfig** class and pass to the super  class a dict with the structure of your config and default values as well as the location and name of the config file.\n",
    "* Upon creating a config object, it will check if there is an existing config, and if not create a default one\n",
    "* If there is an existing config, it makes sure the structure and value types conform to default file structure and types\n",
    "* If it finds errors, it yells at you, backs yours up and tries to correct the corrupted one. \n",
    "* Only simple values like strings and numbers are checked... but maybe more in the future\n",
    "\n",
    "## What next?\n",
    "\n",
    "fork it and add more... I'm sure this could be better"
   ]
  },
  {
   "cell_type": "markdown",
   "metadata": {},
   "source": [
    "### Check it out"
   ]
  },
  {
   "cell_type": "code",
   "execution_count": 1,
   "metadata": {
    "ExecuteTime": {
     "end_time": "2020-04-01T19:51:38.566471Z",
     "start_time": "2020-04-01T19:51:38.505364Z"
    }
   },
   "outputs": [],
   "source": [
    "from yaml_config.yaml_config import YAMLConfig"
   ]
  },
  {
   "cell_type": "markdown",
   "metadata": {},
   "source": [
    "Create a dictionary with the (nested) structure you desire and give it some default values"
   ]
  },
  {
   "cell_type": "code",
   "execution_count": 2,
   "metadata": {
    "ExecuteTime": {
     "end_time": "2020-04-01T19:51:39.355233Z",
     "start_time": "2020-04-01T19:51:39.351134Z"
    }
   },
   "outputs": [],
   "source": [
    "my_structure = {}\n",
    "my_structure['n_workers'] = 4\n",
    "my_structure['server'] = dict(name='supercomputer', address='10.10.1.1')\n",
    "my_structure['my_iq'] = 80\n",
    "my_structure['hours_spent_this'] = 'too many'\n",
    "\n"
   ]
  },
  {
   "cell_type": "markdown",
   "metadata": {},
   "source": [
    "Create your class somewhere in your package"
   ]
  },
  {
   "cell_type": "code",
   "execution_count": 3,
   "metadata": {
    "ExecuteTime": {
     "end_time": "2020-04-01T19:51:40.206781Z",
     "start_time": "2020-04-01T19:51:40.203411Z"
    }
   },
   "outputs": [],
   "source": [
    "class MyConfig(YAMLConfig):  \n",
    "    def __init__(self):\n",
    "\n",
    "        super(MyConfig, self).__init__(my_structure,\n",
    "                                       '~/.my_cool_program',\n",
    "                                       'config.yml')\n",
    "    "
   ]
  },
  {
   "cell_type": "markdown",
   "metadata": {},
   "source": [
    "The first time you make it, the default config will be written. It will yell at you."
   ]
  },
  {
   "cell_type": "code",
   "execution_count": 4,
   "metadata": {
    "ExecuteTime": {
     "end_time": "2020-04-01T19:51:41.079406Z",
     "start_time": "2020-04-01T19:51:41.072965Z"
    }
   },
   "outputs": [],
   "source": [
    "config = MyConfig()\n"
   ]
  },
  {
   "cell_type": "code",
   "execution_count": 5,
   "metadata": {
    "ExecuteTime": {
     "end_time": "2020-04-01T19:44:22.521298Z",
     "start_time": "2020-04-01T19:44:22.398198Z"
    }
   },
   "outputs": [
    {
     "name": "stdout",
     "output_type": "stream",
     "text": [
      "config.yml\r\n"
     ]
    }
   ],
   "source": [
    "!ls /Users/jburgess/.my_cool_program/"
   ]
  },
  {
   "cell_type": "markdown",
   "metadata": {
    "ExecuteTime": {
     "end_time": "2020-04-01T17:38:56.359715Z",
     "start_time": "2020-04-01T17:38:56.356313Z"
    }
   },
   "source": [
    "Yes, it is there."
   ]
  },
  {
   "cell_type": "code",
   "execution_count": 6,
   "metadata": {
    "ExecuteTime": {
     "end_time": "2020-04-01T19:44:47.864955Z",
     "start_time": "2020-04-01T19:44:47.858498Z"
    }
   },
   "outputs": [
    {
     "name": "stdout",
     "output_type": "stream",
     "text": [
      "/Users/jburgess/.my_cool_program/config.yml\n"
     ]
    },
    {
     "data": {
      "text/plain": [
       "hours_spent_this: too many\n",
       "my_iq: 80\n",
       "n_workers: 4\n",
       "server:\n",
       "  address: 10.10.1.1\n",
       "  name: supercomputer"
      ]
     },
     "execution_count": 6,
     "metadata": {},
     "output_type": "execute_result"
    }
   ],
   "source": [
    "config"
   ]
  },
  {
   "cell_type": "code",
   "execution_count": 10,
   "metadata": {
    "ExecuteTime": {
     "end_time": "2020-04-01T19:58:06.070855Z",
     "start_time": "2020-04-01T19:58:06.066915Z"
    }
   },
   "outputs": [
    {
     "data": {
      "text/plain": [
       "'supercomputer'"
      ]
     },
     "execution_count": 10,
     "metadata": {},
     "output_type": "execute_result"
    }
   ],
   "source": [
    "config['server']['name']"
   ]
  },
  {
   "cell_type": "code",
   "execution_count": 5,
   "metadata": {
    "ExecuteTime": {
     "end_time": "2020-04-01T19:51:44.603800Z",
     "start_time": "2020-04-01T19:51:44.598758Z"
    }
   },
   "outputs": [
    {
     "data": {
      "text/plain": [
       "80"
      ]
     },
     "execution_count": 5,
     "metadata": {},
     "output_type": "execute_result"
    }
   ],
   "source": [
    "config['my_iq']"
   ]
  },
  {
   "cell_type": "markdown",
   "metadata": {},
   "source": [
    "Well..."
   ]
  },
  {
   "cell_type": "code",
   "execution_count": 11,
   "metadata": {
    "ExecuteTime": {
     "end_time": "2020-04-01T19:58:13.799436Z",
     "start_time": "2020-04-01T19:58:13.795775Z"
    }
   },
   "outputs": [
    {
     "data": {
      "text/plain": [
       "200"
      ]
     },
     "execution_count": 11,
     "metadata": {},
     "output_type": "execute_result"
    }
   ],
   "source": [
    "config['my_iq'] = 200\n",
    "config['my_iq']"
   ]
  },
  {
   "cell_type": "markdown",
   "metadata": {
    "ExecuteTime": {
     "end_time": "2020-04-01T19:02:07.773525Z",
     "start_time": "2020-04-01T19:02:07.769901Z"
    }
   },
   "source": [
    "### Safety first\n",
    "It will not allow you to clobber nested dicts"
   ]
  },
  {
   "cell_type": "code",
   "execution_count": 7,
   "metadata": {
    "ExecuteTime": {
     "end_time": "2020-04-01T19:53:34.881416Z",
     "start_time": "2020-04-01T19:53:34.756219Z"
    }
   },
   "outputs": [
    {
     "ename": "AssertionError",
     "evalue": "Woah, you are going to overwrite the structure",
     "output_type": "error",
     "traceback": [
      "\u001b[0;31m---------------------------------------------------------------------------\u001b[0m",
      "\u001b[0;31mAssertionError\u001b[0m                            Traceback (most recent call last)",
      "\u001b[0;32m<ipython-input-7-3d0b32c9a17b>\u001b[0m in \u001b[0;36m<module>\u001b[0;34m\u001b[0m\n\u001b[0;32m----> 1\u001b[0;31m \u001b[0mconfig\u001b[0m\u001b[0;34m[\u001b[0m\u001b[0;34m'server'\u001b[0m\u001b[0;34m]\u001b[0m \u001b[0;34m=\u001b[0m \u001b[0;36m5\u001b[0m\u001b[0;34m\u001b[0m\u001b[0;34m\u001b[0m\u001b[0m\n\u001b[0m",
      "\u001b[0;32m~/coding/projects/yaml_config/yaml_config/yaml_config.py\u001b[0m in \u001b[0;36m__setitem__\u001b[0;34m(self, key, item)\u001b[0m\n\u001b[1;32m    294\u001b[0m         \u001b[0;32mif\u001b[0m \u001b[0mkey\u001b[0m \u001b[0;32min\u001b[0m \u001b[0mself\u001b[0m\u001b[0;34m.\u001b[0m\u001b[0m_configuration\u001b[0m\u001b[0;34m:\u001b[0m\u001b[0;34m\u001b[0m\u001b[0;34m\u001b[0m\u001b[0m\n\u001b[1;32m    295\u001b[0m \u001b[0;34m\u001b[0m\u001b[0m\n\u001b[0;32m--> 296\u001b[0;31m             \u001b[0;32massert\u001b[0m \u001b[0;32mnot\u001b[0m \u001b[0misinstance\u001b[0m\u001b[0;34m(\u001b[0m\u001b[0mself\u001b[0m\u001b[0;34m.\u001b[0m\u001b[0m_configuration\u001b[0m\u001b[0;34m[\u001b[0m\u001b[0mkey\u001b[0m\u001b[0;34m]\u001b[0m\u001b[0;34m,\u001b[0m \u001b[0mdict\u001b[0m\u001b[0;34m)\u001b[0m\u001b[0;34m,\u001b[0m \u001b[0;34mf\"Woah, you are going to overwrite the structure\"\u001b[0m\u001b[0;34m\u001b[0m\u001b[0;34m\u001b[0m\u001b[0m\n\u001b[0m\u001b[1;32m    297\u001b[0m \u001b[0;34m\u001b[0m\u001b[0m\n\u001b[1;32m    298\u001b[0m             \u001b[0mself\u001b[0m\u001b[0;34m.\u001b[0m\u001b[0m_configuration\u001b[0m\u001b[0;34m[\u001b[0m\u001b[0mkey\u001b[0m\u001b[0;34m]\u001b[0m \u001b[0;34m=\u001b[0m \u001b[0mitem\u001b[0m\u001b[0;34m\u001b[0m\u001b[0;34m\u001b[0m\u001b[0m\n",
      "\u001b[0;31mAssertionError\u001b[0m: Woah, you are going to overwrite the structure"
     ]
    }
   ],
   "source": [
    "config['server'] = 5"
   ]
  },
  {
   "cell_type": "markdown",
   "metadata": {
    "ExecuteTime": {
     "end_time": "2020-04-01T13:14:50.837105Z",
     "start_time": "2020-04-01T13:14:50.833145Z"
    }
   },
   "source": [
    "Cannot add things that are not there"
   ]
  },
  {
   "cell_type": "code",
   "execution_count": 8,
   "metadata": {
    "ExecuteTime": {
     "end_time": "2020-04-01T19:56:02.935823Z",
     "start_time": "2020-04-01T19:56:02.928073Z"
    }
   },
   "outputs": [
    {
     "ename": "ValueError",
     "evalue": "Configuration key ooops does not exist",
     "output_type": "error",
     "traceback": [
      "\u001b[0;31m---------------------------------------------------------------------------\u001b[0m",
      "\u001b[0;31mValueError\u001b[0m                                Traceback (most recent call last)",
      "\u001b[0;32m<ipython-input-8-ebff4c5248b8>\u001b[0m in \u001b[0;36m<module>\u001b[0;34m\u001b[0m\n\u001b[0;32m----> 1\u001b[0;31m \u001b[0mconfig\u001b[0m\u001b[0;34m[\u001b[0m\u001b[0;34m'ooops'\u001b[0m\u001b[0;34m]\u001b[0m \u001b[0;34m=\u001b[0m \u001b[0;36m10\u001b[0m\u001b[0;34m\u001b[0m\u001b[0;34m\u001b[0m\u001b[0m\n\u001b[0m",
      "\u001b[0;32m~/coding/projects/yaml_config/yaml_config/yaml_config.py\u001b[0m in \u001b[0;36m__setitem__\u001b[0;34m(self, key, item)\u001b[0m\n\u001b[1;32m    301\u001b[0m \u001b[0;34m\u001b[0m\u001b[0m\n\u001b[1;32m    302\u001b[0m             raise ValueError(\n\u001b[0;32m--> 303\u001b[0;31m                 \u001b[0;34mf\"Configuration key {key} does not exist\"\u001b[0m\u001b[0;34m\u001b[0m\u001b[0;34m\u001b[0m\u001b[0m\n\u001b[0m\u001b[1;32m    304\u001b[0m             )\n\u001b[1;32m    305\u001b[0m \u001b[0;34m\u001b[0m\u001b[0m\n",
      "\u001b[0;31mValueError\u001b[0m: Configuration key ooops does not exist"
     ]
    }
   ],
   "source": [
    "config['ooops'] = 10"
   ]
  },
  {
   "cell_type": "markdown",
   "metadata": {},
   "source": [
    "Or find them"
   ]
  },
  {
   "cell_type": "code",
   "execution_count": 9,
   "metadata": {
    "ExecuteTime": {
     "end_time": "2020-04-01T19:56:19.382125Z",
     "start_time": "2020-04-01T19:56:19.374625Z"
    }
   },
   "outputs": [
    {
     "ename": "ValueError",
     "evalue": "Configuration key what? does not exist",
     "output_type": "error",
     "traceback": [
      "\u001b[0;31m---------------------------------------------------------------------------\u001b[0m",
      "\u001b[0;31mValueError\u001b[0m                                Traceback (most recent call last)",
      "\u001b[0;32m<ipython-input-9-37ec546ab0de>\u001b[0m in \u001b[0;36m<module>\u001b[0;34m\u001b[0m\n\u001b[0;32m----> 1\u001b[0;31m \u001b[0mconfig\u001b[0m\u001b[0;34m[\u001b[0m\u001b[0;34m'what?'\u001b[0m\u001b[0;34m]\u001b[0m\u001b[0;34m\u001b[0m\u001b[0;34m\u001b[0m\u001b[0m\n\u001b[0m",
      "\u001b[0;32m~/coding/projects/yaml_config/yaml_config/yaml_config.py\u001b[0m in \u001b[0;36m__getitem__\u001b[0;34m(self, key)\u001b[0m\n\u001b[1;32m    287\u001b[0m \u001b[0;34m\u001b[0m\u001b[0m\n\u001b[1;32m    288\u001b[0m             raise ValueError(\n\u001b[0;32m--> 289\u001b[0;31m                 \u001b[0;34mf\"Configuration key {key} does not exist\"\u001b[0m\u001b[0;34m\u001b[0m\u001b[0;34m\u001b[0m\u001b[0m\n\u001b[0m\u001b[1;32m    290\u001b[0m             )\n\u001b[1;32m    291\u001b[0m \u001b[0;34m\u001b[0m\u001b[0m\n",
      "\u001b[0;31mValueError\u001b[0m: Configuration key what? does not exist"
     ]
    }
   ],
   "source": [
    "config['what?'] "
   ]
  },
  {
   "cell_type": "markdown",
   "metadata": {
    "ExecuteTime": {
     "end_time": "2020-04-01T10:52:40.238684Z",
     "start_time": "2020-04-01T10:52:40.234716Z"
    }
   },
   "source": [
    "What if I manually change the config in my github repo, and the one on my local computer is not up to date?"
   ]
  },
  {
   "cell_type": "code",
   "execution_count": 12,
   "metadata": {
    "ExecuteTime": {
     "end_time": "2020-04-01T20:00:16.429440Z",
     "start_time": "2020-04-01T20:00:16.425842Z"
    }
   },
   "outputs": [],
   "source": [
    "my_structure = {}\n",
    "my_structure['n_workers'] = 4\n",
    "my_structure['server'] = dict(name='supercomputer', address='10.10.1.1')\n",
    "my_structure['my_iq'] = 80\n",
    "my_structure['hours_spent_this'] = 'too many'\n",
    "# Added a new number!\n",
    "my_structure['total_number_of_postdocs'] = 1e5\n",
    "\n"
   ]
  },
  {
   "cell_type": "code",
   "execution_count": null,
   "metadata": {},
   "outputs": [],
   "source": [
    "class MyConfig(YAMLConfig):  \n",
    "    def __init__(self):\n",
    "\n",
    "        super(MyConfig, self).__init__(my_structure,\n",
    "                                       '~/.my_cool_program',\n",
    "                                       'config.yml')\n",
    "    "
   ]
  },
  {
   "cell_type": "code",
   "execution_count": 13,
   "metadata": {
    "ExecuteTime": {
     "end_time": "2020-04-01T20:00:54.842965Z",
     "start_time": "2020-04-01T20:00:54.835596Z"
    }
   },
   "outputs": [
    {
     "name": "stderr",
     "output_type": "stream",
     "text": [
      "/Users/jburgess/coding/projects/yaml_config/yaml_config/yaml_config.py:109: BadStructureWarning: The user config file /Users/jburgess/.my_cool_program/config.yml was corrupt\n",
      "  BadStructureWarning,\n",
      "/Users/jburgess/coding/projects/yaml_config/yaml_config/yaml_config.py:113: BadStructureWarning: and has been backed up to /Users/jburgess/.my_cool_program/config.yml.bak and replaced\n",
      "  BadStructureWarning,\n",
      "/Users/jburgess/coding/projects/yaml_config/yaml_config/yaml_config.py:117: BadStructureWarning: with the default config. The CURRENT config is now default\n",
      "  BadStructureWarning,\n"
     ]
    }
   ],
   "source": [
    "config = MyConfig()"
   ]
  },
  {
   "cell_type": "code",
   "execution_count": 14,
   "metadata": {
    "ExecuteTime": {
     "end_time": "2020-04-01T20:01:13.186541Z",
     "start_time": "2020-04-01T20:01:13.181550Z"
    }
   },
   "outputs": [
    {
     "name": "stdout",
     "output_type": "stream",
     "text": [
      "/Users/jburgess/.my_cool_program/config.yml\n"
     ]
    },
    {
     "data": {
      "text/plain": [
       "hours_spent_this: too many\n",
       "my_iq: 80\n",
       "n_workers: 4\n",
       "server:\n",
       "  address: 10.10.1.1\n",
       "  name: supercomputer\n",
       "total_number_of_postdocs: 100000.0"
      ]
     },
     "execution_count": 14,
     "metadata": {},
     "output_type": "execute_result"
    }
   ],
   "source": [
    "config"
   ]
  },
  {
   "cell_type": "code",
   "execution_count": 15,
   "metadata": {
    "ExecuteTime": {
     "end_time": "2020-04-01T20:08:26.910177Z",
     "start_time": "2020-04-01T20:08:26.785510Z"
    }
   },
   "outputs": [
    {
     "name": "stdout",
     "output_type": "stream",
     "text": [
      "config.yml     config.yml.bak\r\n"
     ]
    }
   ],
   "source": [
    "!ls /Users/jburgess/.my_cool_program/"
   ]
  },
  {
   "cell_type": "markdown",
   "metadata": {},
   "source": [
    "Also, if you manually edit the config in an editor, it will check if the types are correct. If not, it will replace that value with the default value and backup your config"
   ]
  },
  {
   "cell_type": "code",
   "execution_count": null,
   "metadata": {},
   "outputs": [],
   "source": []
  }
 ],
 "metadata": {
  "kernelspec": {
   "display_name": "yaml_config",
   "language": "python",
   "name": "yaml_config"
  },
  "language_info": {
   "codemirror_mode": {
    "name": "ipython",
    "version": 3
   },
   "file_extension": ".py",
   "mimetype": "text/x-python",
   "name": "python",
   "nbconvert_exporter": "python",
   "pygments_lexer": "ipython3",
   "version": "3.7.7"
  }
 },
 "nbformat": 4,
 "nbformat_minor": 4
}
